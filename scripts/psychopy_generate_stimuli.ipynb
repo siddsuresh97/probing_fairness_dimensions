{
 "cells": [
  {
   "cell_type": "code",
   "execution_count": 6,
   "source": [
    "import numpy as np\n",
    "from src.stimuli_generation import draw_and_save_circle\n",
    "import os\n",
    "import time"
   ],
   "outputs": [],
   "metadata": {}
  },
  {
   "cell_type": "code",
   "execution_count": 7,
   "source": [
    "data_dir = '../data/circle_shade_radius_stimuli'\n",
    "if not os.path.exists(data_dir):\n",
    "    os.mkdir(data_dir)\n",
    "shades = list(np.arange(-1, 1.01, 0.01))\n",
    "radius = list(np.arange(0, 1.01, 0.01))\n",
    "start_time = time.time()\n",
    "draw_and_save_circle(data_dir, shades, radius)\n",
    "print('It took {} seconds to generate stimuli'.format(time.time()-start_time))"
   ],
   "outputs": [
    {
     "output_type": "stream",
     "name": "stdout",
     "text": [
      "2.7304 \tWARNING \tMonitor specification not found. Creating a temporary one...\n",
      "153.9579 \tWARNING \tMonitor specification not found. Creating a temporary one...\n",
      "156.3080 \tWARNING \tCouldn't measure a consistent frame rate.\n",
      "  - Is your graphics card set to sync to vertical blank?\n",
      "  - Are you running other processes on your computer?\n",
      "\n",
      "156.3700 \tWARNING \tt of last frame was 62.17ms (=1/16)\n",
      "156.4208 \tWARNING \tt of last frame was 50.86ms (=1/19)\n",
      "156.4677 \tWARNING \tt of last frame was 46.83ms (=1/21)\n",
      "156.5353 \tWARNING \tt of last frame was 67.64ms (=1/14)\n",
      "156.6078 \tWARNING \tMultiple dropped frames have occurred - I'll stop bothering you about them!\n",
      "1379.9578 \tWARNING \tDesired color [1. 1. 1.] (in RGB 0->1 units) falls outside the monitor gamut. Drawing blue instead\n",
      "1379.9855 \tWARNING \tDesired color [1. 1. 1.] (in RGB 0->1 units) falls outside the monitor gamut. Drawing blue instead\n",
      "1380.0133 \tWARNING \tDesired color [1. 1. 1.] (in RGB 0->1 units) falls outside the monitor gamut. Drawing blue instead\n",
      "1380.0417 \tWARNING \tDesired color [1. 1. 1.] (in RGB 0->1 units) falls outside the monitor gamut. Drawing blue instead\n",
      "1380.0705 \tWARNING \tDesired color [1. 1. 1.] (in RGB 0->1 units) falls outside the monitor gamut. Drawing blue instead\n",
      "1380.1037 \tWARNING \tDesired color [1. 1. 1.] (in RGB 0->1 units) falls outside the monitor gamut. Drawing blue instead\n",
      "1380.1322 \tWARNING \tDesired color [1. 1. 1.] (in RGB 0->1 units) falls outside the monitor gamut. Drawing blue instead\n",
      "1380.1609 \tWARNING \tDesired color [1. 1. 1.] (in RGB 0->1 units) falls outside the monitor gamut. Drawing blue instead\n",
      "1380.1913 \tWARNING \tDesired color [1. 1. 1.] (in RGB 0->1 units) falls outside the monitor gamut. Drawing blue instead\n",
      "1380.2202 \tWARNING \tDesired color [1. 1. 1.] (in RGB 0->1 units) falls outside the monitor gamut. Drawing blue instead\n",
      "1380.2498 \tWARNING \tDesired color [1. 1. 1.] (in RGB 0->1 units) falls outside the monitor gamut. Drawing blue instead\n",
      "1380.2795 \tWARNING \tDesired color [1. 1. 1.] (in RGB 0->1 units) falls outside the monitor gamut. Drawing blue instead\n",
      "1380.3093 \tWARNING \tDesired color [1. 1. 1.] (in RGB 0->1 units) falls outside the monitor gamut. Drawing blue instead\n",
      "1380.3401 \tWARNING \tDesired color [1. 1. 1.] (in RGB 0->1 units) falls outside the monitor gamut. Drawing blue instead\n",
      "1380.3695 \tWARNING \tDesired color [1. 1. 1.] (in RGB 0->1 units) falls outside the monitor gamut. Drawing blue instead\n",
      "1380.3991 \tWARNING \tDesired color [1. 1. 1.] (in RGB 0->1 units) falls outside the monitor gamut. Drawing blue instead\n",
      "1380.4307 \tWARNING \tDesired color [1. 1. 1.] (in RGB 0->1 units) falls outside the monitor gamut. Drawing blue instead\n",
      "1380.4620 \tWARNING \tDesired color [1. 1. 1.] (in RGB 0->1 units) falls outside the monitor gamut. Drawing blue instead\n",
      "1380.4923 \tWARNING \tDesired color [1. 1. 1.] (in RGB 0->1 units) falls outside the monitor gamut. Drawing blue instead\n",
      "1380.5245 \tWARNING \tDesired color [1. 1. 1.] (in RGB 0->1 units) falls outside the monitor gamut. Drawing blue instead\n",
      "1380.5561 \tWARNING \tDesired color [1. 1. 1.] (in RGB 0->1 units) falls outside the monitor gamut. Drawing blue instead\n",
      "1380.5878 \tWARNING \tDesired color [1. 1. 1.] (in RGB 0->1 units) falls outside the monitor gamut. Drawing blue instead\n",
      "1380.6191 \tWARNING \tDesired color [1. 1. 1.] (in RGB 0->1 units) falls outside the monitor gamut. Drawing blue instead\n",
      "1380.6508 \tWARNING \tDesired color [1. 1. 1.] (in RGB 0->1 units) falls outside the monitor gamut. Drawing blue instead\n",
      "1380.6857 \tWARNING \tDesired color [1. 1. 1.] (in RGB 0->1 units) falls outside the monitor gamut. Drawing blue instead\n",
      "1380.7219 \tWARNING \tDesired color [1. 1. 1.] (in RGB 0->1 units) falls outside the monitor gamut. Drawing blue instead\n",
      "1380.7831 \tWARNING \tDesired color [1. 1. 1.] (in RGB 0->1 units) falls outside the monitor gamut. Drawing blue instead\n",
      "1380.8242 \tWARNING \tDesired color [1. 1. 1.] (in RGB 0->1 units) falls outside the monitor gamut. Drawing blue instead\n",
      "1380.8686 \tWARNING \tDesired color [1. 1. 1.] (in RGB 0->1 units) falls outside the monitor gamut. Drawing blue instead\n",
      "1380.9372 \tWARNING \tDesired color [1. 1. 1.] (in RGB 0->1 units) falls outside the monitor gamut. Drawing blue instead\n",
      "1380.9825 \tWARNING \tDesired color [1. 1. 1.] (in RGB 0->1 units) falls outside the monitor gamut. Drawing blue instead\n",
      "1381.0264 \tWARNING \tDesired color [1. 1. 1.] (in RGB 0->1 units) falls outside the monitor gamut. Drawing blue instead\n",
      "1381.0627 \tWARNING \tDesired color [1. 1. 1.] (in RGB 0->1 units) falls outside the monitor gamut. Drawing blue instead\n",
      "1381.0990 \tWARNING \tDesired color [1. 1. 1.] (in RGB 0->1 units) falls outside the monitor gamut. Drawing blue instead\n",
      "1381.1331 \tWARNING \tDesired color [1. 1. 1.] (in RGB 0->1 units) falls outside the monitor gamut. Drawing blue instead\n",
      "1381.1684 \tWARNING \tDesired color [1. 1. 1.] (in RGB 0->1 units) falls outside the monitor gamut. Drawing blue instead\n",
      "1381.2069 \tWARNING \tDesired color [1. 1. 1.] (in RGB 0->1 units) falls outside the monitor gamut. Drawing blue instead\n",
      "1381.2409 \tWARNING \tDesired color [1. 1. 1.] (in RGB 0->1 units) falls outside the monitor gamut. Drawing blue instead\n",
      "1381.2788 \tWARNING \tDesired color [1. 1. 1.] (in RGB 0->1 units) falls outside the monitor gamut. Drawing blue instead\n",
      "1381.3153 \tWARNING \tDesired color [1. 1. 1.] (in RGB 0->1 units) falls outside the monitor gamut. Drawing blue instead\n",
      "1381.3517 \tWARNING \tDesired color [1. 1. 1.] (in RGB 0->1 units) falls outside the monitor gamut. Drawing blue instead\n",
      "1381.3874 \tWARNING \tDesired color [1. 1. 1.] (in RGB 0->1 units) falls outside the monitor gamut. Drawing blue instead\n",
      "1381.4229 \tWARNING \tDesired color [1. 1. 1.] (in RGB 0->1 units) falls outside the monitor gamut. Drawing blue instead\n",
      "1381.6164 \tWARNING \tDesired color [1. 1. 1.] (in RGB 0->1 units) falls outside the monitor gamut. Drawing blue instead\n",
      "1381.6603 \tWARNING \tDesired color [1. 1. 1.] (in RGB 0->1 units) falls outside the monitor gamut. Drawing blue instead\n",
      "1381.7078 \tWARNING \tDesired color [1. 1. 1.] (in RGB 0->1 units) falls outside the monitor gamut. Drawing blue instead\n",
      "1381.7469 \tWARNING \tDesired color [1. 1. 1.] (in RGB 0->1 units) falls outside the monitor gamut. Drawing blue instead\n",
      "1381.7890 \tWARNING \tDesired color [1. 1. 1.] (in RGB 0->1 units) falls outside the monitor gamut. Drawing blue instead\n",
      "1381.8266 \tWARNING \tDesired color [1. 1. 1.] (in RGB 0->1 units) falls outside the monitor gamut. Drawing blue instead\n",
      "1381.8681 \tWARNING \tDesired color [1. 1. 1.] (in RGB 0->1 units) falls outside the monitor gamut. Drawing blue instead\n",
      "1381.9090 \tWARNING \tDesired color [1. 1. 1.] (in RGB 0->1 units) falls outside the monitor gamut. Drawing blue instead\n",
      "1381.9516 \tWARNING \tDesired color [1. 1. 1.] (in RGB 0->1 units) falls outside the monitor gamut. Drawing blue instead\n",
      "1381.9903 \tWARNING \tDesired color [1. 1. 1.] (in RGB 0->1 units) falls outside the monitor gamut. Drawing blue instead\n",
      "1382.0291 \tWARNING \tDesired color [1. 1. 1.] (in RGB 0->1 units) falls outside the monitor gamut. Drawing blue instead\n",
      "1382.0659 \tWARNING \tDesired color [1. 1. 1.] (in RGB 0->1 units) falls outside the monitor gamut. Drawing blue instead\n",
      "1382.1032 \tWARNING \tDesired color [1. 1. 1.] (in RGB 0->1 units) falls outside the monitor gamut. Drawing blue instead\n",
      "1382.1411 \tWARNING \tDesired color [1. 1. 1.] (in RGB 0->1 units) falls outside the monitor gamut. Drawing blue instead\n",
      "1382.1789 \tWARNING \tDesired color [1. 1. 1.] (in RGB 0->1 units) falls outside the monitor gamut. Drawing blue instead\n",
      "1382.2199 \tWARNING \tDesired color [1. 1. 1.] (in RGB 0->1 units) falls outside the monitor gamut. Drawing blue instead\n",
      "1382.2572 \tWARNING \tDesired color [1. 1. 1.] (in RGB 0->1 units) falls outside the monitor gamut. Drawing blue instead\n",
      "1382.2952 \tWARNING \tDesired color [1. 1. 1.] (in RGB 0->1 units) falls outside the monitor gamut. Drawing blue instead\n",
      "1382.3341 \tWARNING \tDesired color [1. 1. 1.] (in RGB 0->1 units) falls outside the monitor gamut. Drawing blue instead\n",
      "1382.3707 \tWARNING \tDesired color [1. 1. 1.] (in RGB 0->1 units) falls outside the monitor gamut. Drawing blue instead\n",
      "1382.4162 \tWARNING \tDesired color [1. 1. 1.] (in RGB 0->1 units) falls outside the monitor gamut. Drawing blue instead\n",
      "1382.4554 \tWARNING \tDesired color [1. 1. 1.] (in RGB 0->1 units) falls outside the monitor gamut. Drawing blue instead\n",
      "1382.4933 \tWARNING \tDesired color [1. 1. 1.] (in RGB 0->1 units) falls outside the monitor gamut. Drawing blue instead\n",
      "1382.5311 \tWARNING \tDesired color [1. 1. 1.] (in RGB 0->1 units) falls outside the monitor gamut. Drawing blue instead\n",
      "1382.5688 \tWARNING \tDesired color [1. 1. 1.] (in RGB 0->1 units) falls outside the monitor gamut. Drawing blue instead\n",
      "1382.6070 \tWARNING \tDesired color [1. 1. 1.] (in RGB 0->1 units) falls outside the monitor gamut. Drawing blue instead\n",
      "1382.6468 \tWARNING \tDesired color [1. 1. 1.] (in RGB 0->1 units) falls outside the monitor gamut. Drawing blue instead\n",
      "1382.6850 \tWARNING \tDesired color [1. 1. 1.] (in RGB 0->1 units) falls outside the monitor gamut. Drawing blue instead\n",
      "1382.7260 \tWARNING \tDesired color [1. 1. 1.] (in RGB 0->1 units) falls outside the monitor gamut. Drawing blue instead\n",
      "1382.7675 \tWARNING \tDesired color [1. 1. 1.] (in RGB 0->1 units) falls outside the monitor gamut. Drawing blue instead\n",
      "1382.8101 \tWARNING \tDesired color [1. 1. 1.] (in RGB 0->1 units) falls outside the monitor gamut. Drawing blue instead\n",
      "1382.8507 \tWARNING \tDesired color [1. 1. 1.] (in RGB 0->1 units) falls outside the monitor gamut. Drawing blue instead\n",
      "1382.8924 \tWARNING \tDesired color [1. 1. 1.] (in RGB 0->1 units) falls outside the monitor gamut. Drawing blue instead\n",
      "1382.9359 \tWARNING \tDesired color [1. 1. 1.] (in RGB 0->1 units) falls outside the monitor gamut. Drawing blue instead\n",
      "1382.9763 \tWARNING \tDesired color [1. 1. 1.] (in RGB 0->1 units) falls outside the monitor gamut. Drawing blue instead\n",
      "1383.0156 \tWARNING \tDesired color [1. 1. 1.] (in RGB 0->1 units) falls outside the monitor gamut. Drawing blue instead\n",
      "1383.0606 \tWARNING \tDesired color [1. 1. 1.] (in RGB 0->1 units) falls outside the monitor gamut. Drawing blue instead\n",
      "1383.1018 \tWARNING \tDesired color [1. 1. 1.] (in RGB 0->1 units) falls outside the monitor gamut. Drawing blue instead\n",
      "1383.1418 \tWARNING \tDesired color [1. 1. 1.] (in RGB 0->1 units) falls outside the monitor gamut. Drawing blue instead\n",
      "1383.1824 \tWARNING \tDesired color [1. 1. 1.] (in RGB 0->1 units) falls outside the monitor gamut. Drawing blue instead\n",
      "1383.2245 \tWARNING \tDesired color [1. 1. 1.] (in RGB 0->1 units) falls outside the monitor gamut. Drawing blue instead\n",
      "1383.2662 \tWARNING \tDesired color [1. 1. 1.] (in RGB 0->1 units) falls outside the monitor gamut. Drawing blue instead\n",
      "1383.3117 \tWARNING \tDesired color [1. 1. 1.] (in RGB 0->1 units) falls outside the monitor gamut. Drawing blue instead\n",
      "1383.3544 \tWARNING \tDesired color [1. 1. 1.] (in RGB 0->1 units) falls outside the monitor gamut. Drawing blue instead\n",
      "1383.3972 \tWARNING \tDesired color [1. 1. 1.] (in RGB 0->1 units) falls outside the monitor gamut. Drawing blue instead\n",
      "1383.4399 \tWARNING \tDesired color [1. 1. 1.] (in RGB 0->1 units) falls outside the monitor gamut. Drawing blue instead\n",
      "1383.4811 \tWARNING \tDesired color [1. 1. 1.] (in RGB 0->1 units) falls outside the monitor gamut. Drawing blue instead\n",
      "1383.5251 \tWARNING \tDesired color [1. 1. 1.] (in RGB 0->1 units) falls outside the monitor gamut. Drawing blue instead\n",
      "1383.5681 \tWARNING \tDesired color [1. 1. 1.] (in RGB 0->1 units) falls outside the monitor gamut. Drawing blue instead\n",
      "1383.6109 \tWARNING \tDesired color [1. 1. 1.] (in RGB 0->1 units) falls outside the monitor gamut. Drawing blue instead\n",
      "1383.6527 \tWARNING \tDesired color [1. 1. 1.] (in RGB 0->1 units) falls outside the monitor gamut. Drawing blue instead\n",
      "1383.6980 \tWARNING \tDesired color [1. 1. 1.] (in RGB 0->1 units) falls outside the monitor gamut. Drawing blue instead\n",
      "1383.7422 \tWARNING \tDesired color [1. 1. 1.] (in RGB 0->1 units) falls outside the monitor gamut. Drawing blue instead\n",
      "1383.7845 \tWARNING \tDesired color [1. 1. 1.] (in RGB 0->1 units) falls outside the monitor gamut. Drawing blue instead\n",
      "1383.8324 \tWARNING \tDesired color [1. 1. 1.] (in RGB 0->1 units) falls outside the monitor gamut. Drawing blue instead\n",
      "1383.8763 \tWARNING \tDesired color [1. 1. 1.] (in RGB 0->1 units) falls outside the monitor gamut. Drawing blue instead\n",
      "1383.9200 \tWARNING \tDesired color [1. 1. 1.] (in RGB 0->1 units) falls outside the monitor gamut. Drawing blue instead\n",
      "1383.9634 \tWARNING \tDesired color [1. 1. 1.] (in RGB 0->1 units) falls outside the monitor gamut. Drawing blue instead\n",
      "It took 1230.0324652194977 seconds to generate stimuli\n"
     ]
    }
   ],
   "metadata": {}
  },
  {
   "cell_type": "code",
   "execution_count": 5,
   "source": [
    "len(shades)*len(radius)"
   ],
   "outputs": [
    {
     "output_type": "execute_result",
     "data": {
      "text/plain": [
       "20301"
      ]
     },
     "metadata": {},
     "execution_count": 5
    }
   ],
   "metadata": {}
  },
  {
   "cell_type": "code",
   "execution_count": null,
   "source": [],
   "outputs": [],
   "metadata": {}
  }
 ],
 "metadata": {
  "orig_nbformat": 4,
  "language_info": {
   "name": "python",
   "version": "3.6.11",
   "mimetype": "text/x-python",
   "codemirror_mode": {
    "name": "ipython",
    "version": 3
   },
   "pygments_lexer": "ipython3",
   "nbconvert_exporter": "python",
   "file_extension": ".py"
  },
  "kernelspec": {
   "name": "python3",
   "display_name": "Python 3.6.11 64-bit ('visual_awareness': conda)"
  },
  "interpreter": {
   "hash": "75ec669cb1865462b911cb3bf5d6d6903bd211ccb5a1cf27f83bd4461cc4ca69"
  }
 },
 "nbformat": 4,
 "nbformat_minor": 2
}