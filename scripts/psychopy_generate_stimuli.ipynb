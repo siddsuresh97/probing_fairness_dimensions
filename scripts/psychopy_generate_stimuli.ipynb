{
 "cells": [
  {
   "cell_type": "code",
   "execution_count": 105,
   "metadata": {},
   "outputs": [
    {
     "ename": "ModuleNotFoundError",
     "evalue": "No module named 'src.stimuli_generation'",
     "output_type": "error",
     "traceback": [
      "\u001b[0;31m---------------------------------------------------------------------------\u001b[0m",
      "\u001b[0;31mModuleNotFoundError\u001b[0m                       Traceback (most recent call last)",
      "\u001b[1;32m/Users/siddharthsuresh/Projects/Wisconsin/probing_fairness_dimensions/scripts/psychopy_generate_stimuli.ipynb Cell 1'\u001b[0m in \u001b[0;36m<cell line: 2>\u001b[0;34m()\u001b[0m\n\u001b[1;32m      <a href='vscode-notebook-cell:/Users/siddharthsuresh/Projects/Wisconsin/probing_fairness_dimensions/scripts/psychopy_generate_stimuli.ipynb#ch0000000?line=0'>1</a>\u001b[0m \u001b[39mimport\u001b[39;00m \u001b[39mnumpy\u001b[39;00m \u001b[39mas\u001b[39;00m \u001b[39mnp\u001b[39;00m\n\u001b[0;32m----> <a href='vscode-notebook-cell:/Users/siddharthsuresh/Projects/Wisconsin/probing_fairness_dimensions/scripts/psychopy_generate_stimuli.ipynb#ch0000000?line=1'>2</a>\u001b[0m \u001b[39mfrom\u001b[39;00m \u001b[39msrc\u001b[39;00m\u001b[39m.\u001b[39;00m\u001b[39mstimuli_generation\u001b[39;00m \u001b[39mimport\u001b[39;00m draw_and_save_circle\n\u001b[1;32m      <a href='vscode-notebook-cell:/Users/siddharthsuresh/Projects/Wisconsin/probing_fairness_dimensions/scripts/psychopy_generate_stimuli.ipynb#ch0000000?line=2'>3</a>\u001b[0m \u001b[39mimport\u001b[39;00m \u001b[39mos\u001b[39;00m\n\u001b[1;32m      <a href='vscode-notebook-cell:/Users/siddharthsuresh/Projects/Wisconsin/probing_fairness_dimensions/scripts/psychopy_generate_stimuli.ipynb#ch0000000?line=3'>4</a>\u001b[0m \u001b[39mimport\u001b[39;00m \u001b[39mtime\u001b[39;00m\n",
      "\u001b[0;31mModuleNotFoundError\u001b[0m: No module named 'src.stimuli_generation'"
     ]
    }
   ],
   "source": [
    "import numpy as np\n",
    "from src.stimuli_generation import draw_and_save_circle\n",
    "import os\n",
    "import time"
   ]
  },
  {
   "cell_type": "markdown",
   "metadata": {},
   "source": [
    "# Generate stimuli"
   ]
  },
  {
   "cell_type": "code",
   "execution_count": null,
   "metadata": {},
   "outputs": [
    {
     "name": "stdout",
     "output_type": "stream",
     "text": [
      "2.7304 \tWARNING \tMonitor specification not found. Creating a temporary one...\n",
      "153.9579 \tWARNING \tMonitor specification not found. Creating a temporary one...\n",
      "156.3080 \tWARNING \tCouldn't measure a consistent frame rate.\n",
      "  - Is your graphics card set to sync to vertical blank?\n",
      "  - Are you running other processes on your computer?\n",
      "\n",
      "156.3700 \tWARNING \tt of last frame was 62.17ms (=1/16)\n",
      "156.4208 \tWARNING \tt of last frame was 50.86ms (=1/19)\n",
      "156.4677 \tWARNING \tt of last frame was 46.83ms (=1/21)\n",
      "156.5353 \tWARNING \tt of last frame was 67.64ms (=1/14)\n",
      "156.6078 \tWARNING \tMultiple dropped frames have occurred - I'll stop bothering you about them!\n",
      "1379.9578 \tWARNING \tDesired color [1. 1. 1.] (in RGB 0->1 units) falls outside the monitor gamut. Drawing blue instead\n",
      "1379.9855 \tWARNING \tDesired color [1. 1. 1.] (in RGB 0->1 units) falls outside the monitor gamut. Drawing blue instead\n",
      "1380.0133 \tWARNING \tDesired color [1. 1. 1.] (in RGB 0->1 units) falls outside the monitor gamut. Drawing blue instead\n",
      "1380.0417 \tWARNING \tDesired color [1. 1. 1.] (in RGB 0->1 units) falls outside the monitor gamut. Drawing blue instead\n",
      "1380.0705 \tWARNING \tDesired color [1. 1. 1.] (in RGB 0->1 units) falls outside the monitor gamut. Drawing blue instead\n",
      "1380.1037 \tWARNING \tDesired color [1. 1. 1.] (in RGB 0->1 units) falls outside the monitor gamut. Drawing blue instead\n",
      "1380.1322 \tWARNING \tDesired color [1. 1. 1.] (in RGB 0->1 units) falls outside the monitor gamut. Drawing blue instead\n",
      "1380.1609 \tWARNING \tDesired color [1. 1. 1.] (in RGB 0->1 units) falls outside the monitor gamut. Drawing blue instead\n",
      "1380.1913 \tWARNING \tDesired color [1. 1. 1.] (in RGB 0->1 units) falls outside the monitor gamut. Drawing blue instead\n",
      "1380.2202 \tWARNING \tDesired color [1. 1. 1.] (in RGB 0->1 units) falls outside the monitor gamut. Drawing blue instead\n",
      "1380.2498 \tWARNING \tDesired color [1. 1. 1.] (in RGB 0->1 units) falls outside the monitor gamut. Drawing blue instead\n",
      "1380.2795 \tWARNING \tDesired color [1. 1. 1.] (in RGB 0->1 units) falls outside the monitor gamut. Drawing blue instead\n",
      "1380.3093 \tWARNING \tDesired color [1. 1. 1.] (in RGB 0->1 units) falls outside the monitor gamut. Drawing blue instead\n",
      "1380.3401 \tWARNING \tDesired color [1. 1. 1.] (in RGB 0->1 units) falls outside the monitor gamut. Drawing blue instead\n",
      "1380.3695 \tWARNING \tDesired color [1. 1. 1.] (in RGB 0->1 units) falls outside the monitor gamut. Drawing blue instead\n",
      "1380.3991 \tWARNING \tDesired color [1. 1. 1.] (in RGB 0->1 units) falls outside the monitor gamut. Drawing blue instead\n",
      "1380.4307 \tWARNING \tDesired color [1. 1. 1.] (in RGB 0->1 units) falls outside the monitor gamut. Drawing blue instead\n",
      "1380.4620 \tWARNING \tDesired color [1. 1. 1.] (in RGB 0->1 units) falls outside the monitor gamut. Drawing blue instead\n",
      "1380.4923 \tWARNING \tDesired color [1. 1. 1.] (in RGB 0->1 units) falls outside the monitor gamut. Drawing blue instead\n",
      "1380.5245 \tWARNING \tDesired color [1. 1. 1.] (in RGB 0->1 units) falls outside the monitor gamut. Drawing blue instead\n",
      "1380.5561 \tWARNING \tDesired color [1. 1. 1.] (in RGB 0->1 units) falls outside the monitor gamut. Drawing blue instead\n",
      "1380.5878 \tWARNING \tDesired color [1. 1. 1.] (in RGB 0->1 units) falls outside the monitor gamut. Drawing blue instead\n",
      "1380.6191 \tWARNING \tDesired color [1. 1. 1.] (in RGB 0->1 units) falls outside the monitor gamut. Drawing blue instead\n",
      "1380.6508 \tWARNING \tDesired color [1. 1. 1.] (in RGB 0->1 units) falls outside the monitor gamut. Drawing blue instead\n",
      "1380.6857 \tWARNING \tDesired color [1. 1. 1.] (in RGB 0->1 units) falls outside the monitor gamut. Drawing blue instead\n",
      "1380.7219 \tWARNING \tDesired color [1. 1. 1.] (in RGB 0->1 units) falls outside the monitor gamut. Drawing blue instead\n",
      "1380.7831 \tWARNING \tDesired color [1. 1. 1.] (in RGB 0->1 units) falls outside the monitor gamut. Drawing blue instead\n",
      "1380.8242 \tWARNING \tDesired color [1. 1. 1.] (in RGB 0->1 units) falls outside the monitor gamut. Drawing blue instead\n",
      "1380.8686 \tWARNING \tDesired color [1. 1. 1.] (in RGB 0->1 units) falls outside the monitor gamut. Drawing blue instead\n",
      "1380.9372 \tWARNING \tDesired color [1. 1. 1.] (in RGB 0->1 units) falls outside the monitor gamut. Drawing blue instead\n",
      "1380.9825 \tWARNING \tDesired color [1. 1. 1.] (in RGB 0->1 units) falls outside the monitor gamut. Drawing blue instead\n",
      "1381.0264 \tWARNING \tDesired color [1. 1. 1.] (in RGB 0->1 units) falls outside the monitor gamut. Drawing blue instead\n",
      "1381.0627 \tWARNING \tDesired color [1. 1. 1.] (in RGB 0->1 units) falls outside the monitor gamut. Drawing blue instead\n",
      "1381.0990 \tWARNING \tDesired color [1. 1. 1.] (in RGB 0->1 units) falls outside the monitor gamut. Drawing blue instead\n",
      "1381.1331 \tWARNING \tDesired color [1. 1. 1.] (in RGB 0->1 units) falls outside the monitor gamut. Drawing blue instead\n",
      "1381.1684 \tWARNING \tDesired color [1. 1. 1.] (in RGB 0->1 units) falls outside the monitor gamut. Drawing blue instead\n",
      "1381.2069 \tWARNING \tDesired color [1. 1. 1.] (in RGB 0->1 units) falls outside the monitor gamut. Drawing blue instead\n",
      "1381.2409 \tWARNING \tDesired color [1. 1. 1.] (in RGB 0->1 units) falls outside the monitor gamut. Drawing blue instead\n",
      "1381.2788 \tWARNING \tDesired color [1. 1. 1.] (in RGB 0->1 units) falls outside the monitor gamut. Drawing blue instead\n",
      "1381.3153 \tWARNING \tDesired color [1. 1. 1.] (in RGB 0->1 units) falls outside the monitor gamut. Drawing blue instead\n",
      "1381.3517 \tWARNING \tDesired color [1. 1. 1.] (in RGB 0->1 units) falls outside the monitor gamut. Drawing blue instead\n",
      "1381.3874 \tWARNING \tDesired color [1. 1. 1.] (in RGB 0->1 units) falls outside the monitor gamut. Drawing blue instead\n",
      "1381.4229 \tWARNING \tDesired color [1. 1. 1.] (in RGB 0->1 units) falls outside the monitor gamut. Drawing blue instead\n",
      "1381.6164 \tWARNING \tDesired color [1. 1. 1.] (in RGB 0->1 units) falls outside the monitor gamut. Drawing blue instead\n",
      "1381.6603 \tWARNING \tDesired color [1. 1. 1.] (in RGB 0->1 units) falls outside the monitor gamut. Drawing blue instead\n",
      "1381.7078 \tWARNING \tDesired color [1. 1. 1.] (in RGB 0->1 units) falls outside the monitor gamut. Drawing blue instead\n",
      "1381.7469 \tWARNING \tDesired color [1. 1. 1.] (in RGB 0->1 units) falls outside the monitor gamut. Drawing blue instead\n",
      "1381.7890 \tWARNING \tDesired color [1. 1. 1.] (in RGB 0->1 units) falls outside the monitor gamut. Drawing blue instead\n",
      "1381.8266 \tWARNING \tDesired color [1. 1. 1.] (in RGB 0->1 units) falls outside the monitor gamut. Drawing blue instead\n",
      "1381.8681 \tWARNING \tDesired color [1. 1. 1.] (in RGB 0->1 units) falls outside the monitor gamut. Drawing blue instead\n",
      "1381.9090 \tWARNING \tDesired color [1. 1. 1.] (in RGB 0->1 units) falls outside the monitor gamut. Drawing blue instead\n",
      "1381.9516 \tWARNING \tDesired color [1. 1. 1.] (in RGB 0->1 units) falls outside the monitor gamut. Drawing blue instead\n",
      "1381.9903 \tWARNING \tDesired color [1. 1. 1.] (in RGB 0->1 units) falls outside the monitor gamut. Drawing blue instead\n",
      "1382.0291 \tWARNING \tDesired color [1. 1. 1.] (in RGB 0->1 units) falls outside the monitor gamut. Drawing blue instead\n",
      "1382.0659 \tWARNING \tDesired color [1. 1. 1.] (in RGB 0->1 units) falls outside the monitor gamut. Drawing blue instead\n",
      "1382.1032 \tWARNING \tDesired color [1. 1. 1.] (in RGB 0->1 units) falls outside the monitor gamut. Drawing blue instead\n",
      "1382.1411 \tWARNING \tDesired color [1. 1. 1.] (in RGB 0->1 units) falls outside the monitor gamut. Drawing blue instead\n",
      "1382.1789 \tWARNING \tDesired color [1. 1. 1.] (in RGB 0->1 units) falls outside the monitor gamut. Drawing blue instead\n",
      "1382.2199 \tWARNING \tDesired color [1. 1. 1.] (in RGB 0->1 units) falls outside the monitor gamut. Drawing blue instead\n",
      "1382.2572 \tWARNING \tDesired color [1. 1. 1.] (in RGB 0->1 units) falls outside the monitor gamut. Drawing blue instead\n",
      "1382.2952 \tWARNING \tDesired color [1. 1. 1.] (in RGB 0->1 units) falls outside the monitor gamut. Drawing blue instead\n",
      "1382.3341 \tWARNING \tDesired color [1. 1. 1.] (in RGB 0->1 units) falls outside the monitor gamut. Drawing blue instead\n",
      "1382.3707 \tWARNING \tDesired color [1. 1. 1.] (in RGB 0->1 units) falls outside the monitor gamut. Drawing blue instead\n",
      "1382.4162 \tWARNING \tDesired color [1. 1. 1.] (in RGB 0->1 units) falls outside the monitor gamut. Drawing blue instead\n",
      "1382.4554 \tWARNING \tDesired color [1. 1. 1.] (in RGB 0->1 units) falls outside the monitor gamut. Drawing blue instead\n",
      "1382.4933 \tWARNING \tDesired color [1. 1. 1.] (in RGB 0->1 units) falls outside the monitor gamut. Drawing blue instead\n",
      "1382.5311 \tWARNING \tDesired color [1. 1. 1.] (in RGB 0->1 units) falls outside the monitor gamut. Drawing blue instead\n",
      "1382.5688 \tWARNING \tDesired color [1. 1. 1.] (in RGB 0->1 units) falls outside the monitor gamut. Drawing blue instead\n",
      "1382.6070 \tWARNING \tDesired color [1. 1. 1.] (in RGB 0->1 units) falls outside the monitor gamut. Drawing blue instead\n",
      "1382.6468 \tWARNING \tDesired color [1. 1. 1.] (in RGB 0->1 units) falls outside the monitor gamut. Drawing blue instead\n",
      "1382.6850 \tWARNING \tDesired color [1. 1. 1.] (in RGB 0->1 units) falls outside the monitor gamut. Drawing blue instead\n",
      "1382.7260 \tWARNING \tDesired color [1. 1. 1.] (in RGB 0->1 units) falls outside the monitor gamut. Drawing blue instead\n",
      "1382.7675 \tWARNING \tDesired color [1. 1. 1.] (in RGB 0->1 units) falls outside the monitor gamut. Drawing blue instead\n",
      "1382.8101 \tWARNING \tDesired color [1. 1. 1.] (in RGB 0->1 units) falls outside the monitor gamut. Drawing blue instead\n",
      "1382.8507 \tWARNING \tDesired color [1. 1. 1.] (in RGB 0->1 units) falls outside the monitor gamut. Drawing blue instead\n",
      "1382.8924 \tWARNING \tDesired color [1. 1. 1.] (in RGB 0->1 units) falls outside the monitor gamut. Drawing blue instead\n",
      "1382.9359 \tWARNING \tDesired color [1. 1. 1.] (in RGB 0->1 units) falls outside the monitor gamut. Drawing blue instead\n",
      "1382.9763 \tWARNING \tDesired color [1. 1. 1.] (in RGB 0->1 units) falls outside the monitor gamut. Drawing blue instead\n",
      "1383.0156 \tWARNING \tDesired color [1. 1. 1.] (in RGB 0->1 units) falls outside the monitor gamut. Drawing blue instead\n",
      "1383.0606 \tWARNING \tDesired color [1. 1. 1.] (in RGB 0->1 units) falls outside the monitor gamut. Drawing blue instead\n",
      "1383.1018 \tWARNING \tDesired color [1. 1. 1.] (in RGB 0->1 units) falls outside the monitor gamut. Drawing blue instead\n",
      "1383.1418 \tWARNING \tDesired color [1. 1. 1.] (in RGB 0->1 units) falls outside the monitor gamut. Drawing blue instead\n",
      "1383.1824 \tWARNING \tDesired color [1. 1. 1.] (in RGB 0->1 units) falls outside the monitor gamut. Drawing blue instead\n",
      "1383.2245 \tWARNING \tDesired color [1. 1. 1.] (in RGB 0->1 units) falls outside the monitor gamut. Drawing blue instead\n",
      "1383.2662 \tWARNING \tDesired color [1. 1. 1.] (in RGB 0->1 units) falls outside the monitor gamut. Drawing blue instead\n",
      "1383.3117 \tWARNING \tDesired color [1. 1. 1.] (in RGB 0->1 units) falls outside the monitor gamut. Drawing blue instead\n",
      "1383.3544 \tWARNING \tDesired color [1. 1. 1.] (in RGB 0->1 units) falls outside the monitor gamut. Drawing blue instead\n",
      "1383.3972 \tWARNING \tDesired color [1. 1. 1.] (in RGB 0->1 units) falls outside the monitor gamut. Drawing blue instead\n",
      "1383.4399 \tWARNING \tDesired color [1. 1. 1.] (in RGB 0->1 units) falls outside the monitor gamut. Drawing blue instead\n",
      "1383.4811 \tWARNING \tDesired color [1. 1. 1.] (in RGB 0->1 units) falls outside the monitor gamut. Drawing blue instead\n",
      "1383.5251 \tWARNING \tDesired color [1. 1. 1.] (in RGB 0->1 units) falls outside the monitor gamut. Drawing blue instead\n",
      "1383.5681 \tWARNING \tDesired color [1. 1. 1.] (in RGB 0->1 units) falls outside the monitor gamut. Drawing blue instead\n",
      "1383.6109 \tWARNING \tDesired color [1. 1. 1.] (in RGB 0->1 units) falls outside the monitor gamut. Drawing blue instead\n",
      "1383.6527 \tWARNING \tDesired color [1. 1. 1.] (in RGB 0->1 units) falls outside the monitor gamut. Drawing blue instead\n",
      "1383.6980 \tWARNING \tDesired color [1. 1. 1.] (in RGB 0->1 units) falls outside the monitor gamut. Drawing blue instead\n",
      "1383.7422 \tWARNING \tDesired color [1. 1. 1.] (in RGB 0->1 units) falls outside the monitor gamut. Drawing blue instead\n",
      "1383.7845 \tWARNING \tDesired color [1. 1. 1.] (in RGB 0->1 units) falls outside the monitor gamut. Drawing blue instead\n",
      "1383.8324 \tWARNING \tDesired color [1. 1. 1.] (in RGB 0->1 units) falls outside the monitor gamut. Drawing blue instead\n",
      "1383.8763 \tWARNING \tDesired color [1. 1. 1.] (in RGB 0->1 units) falls outside the monitor gamut. Drawing blue instead\n",
      "1383.9200 \tWARNING \tDesired color [1. 1. 1.] (in RGB 0->1 units) falls outside the monitor gamut. Drawing blue instead\n",
      "1383.9634 \tWARNING \tDesired color [1. 1. 1.] (in RGB 0->1 units) falls outside the monitor gamut. Drawing blue instead\n",
      "It took 1230.0324652194977 seconds to generate stimuli\n"
     ]
    }
   ],
   "source": [
    "data_dir = '../data/circle_shade_radius_stimuli'\n",
    "if not os.path.exists(data_dir):\n",
    "    os.mkdir(data_dir)\n",
    "shades = list(np.arange(-1, 1.01, 0.01))\n",
    "radius = list(np.arange(0, 1.01, 0.01))\n",
    "start_time = time.time()\n",
    "draw_and_save_circle(data_dir, shades, radius)\n",
    "print('It took {} seconds to generate stimuli'.format(time.time()-start_time))"
   ]
  },
  {
   "cell_type": "markdown",
   "metadata": {},
   "source": [
    "# Cleaning up images with radius == 0 and shade > 1"
   ]
  },
  {
   "cell_type": "code",
   "execution_count": null,
   "metadata": {},
   "outputs": [],
   "source": [
    "import shutil"
   ]
  },
  {
   "cell_type": "code",
   "execution_count": null,
   "metadata": {},
   "outputs": [
    {
     "name": "stdout",
     "output_type": "stream",
     "text": [
      "-0.49999999999999956 <class 'float'> .DS_Store\n",
      "1.0 <class 'float'> .DS_Store\n"
     ]
    }
   ],
   "source": [
    "move_data_dir = '../data/invalid_files'\n",
    "data_dir = '../data/circle_shade_radius_stimuli'\n",
    "if not os.path.exists(move_data_dir):\n",
    "    os.mkdir(move_data_dir)\n",
    "for img in os.listdir(data_dir):\n",
    "    temp = img.split('_')\n",
    "    try:\n",
    "        shade = float(temp[1])\n",
    "    except:\n",
    "        print(shade, type(shade), img)\n",
    "    try:\n",
    "        radii = float(temp[-1].split('.png')[0])\n",
    "    except:\n",
    "        print(radii, type(radii), img) \n",
    "    if shade >1 or radii ==0:\n",
    "        shutil.move(os.path.join(data_dir, img), os.path.join(move_data_dir, img))"
   ]
  },
  {
   "cell_type": "markdown",
   "metadata": {},
   "source": [
    "# Classifier"
   ]
  },
  {
   "cell_type": "code",
   "execution_count": 134,
   "metadata": {},
   "outputs": [],
   "source": [
    "import torch\n",
    "import torch.nn as nn\n",
    "from sklearn.model_selection import train_test_split\n",
    "from tqdm import tqdm\n",
    "import matplotlib.pyplot as plt"
   ]
  },
  {
   "cell_type": "code",
   "execution_count": null,
   "metadata": {},
   "outputs": [],
   "source": [
    "class UnfairClassifierParametric(nn.Module):\n",
    "    def __init__(self, input_dim, output_dim):\n",
    "        super(UnfairClassifierParametric, self).__init__()\n",
    "        self.linear = nn.Linear(input_dim, output_dim)\n",
    "\n",
    "    def forward(self, size, shade):\n",
    "        output = shade*(torch.sigmoid(self.linear(size))) + (1-shade)*(0.5)\n",
    "        return output"
   ]
  },
  {
   "cell_type": "code",
   "execution_count": 142,
   "metadata": {},
   "outputs": [
    {
     "name": "stdout",
     "output_type": "stream",
     "text": [
      "-0.49999999999999956 <class 'float'> .DS_Store\n",
      "1.0 <class 'float'> .DS_Store\n"
     ]
    }
   ],
   "source": [
    "data_dir = '../data/circle_shade_radius_stimuli'\n",
    "x = []\n",
    "y = []\n",
    "for img in os.listdir(data_dir):\n",
    "    temp = img.split('_')\n",
    "    try:\n",
    "        shade = float(temp[1])\n",
    "    except:\n",
    "        print(shade, type(shade), img)\n",
    "    try:\n",
    "        radii = float(temp[-1].split('.png')[0])\n",
    "    except:\n",
    "        print(radii, type(radii), img) \n",
    "    x.append([radii, shade])\n",
    "    if radii>0.5:\n",
    "        y.append(1)\n",
    "    else:\n",
    "        y.append(0)"
   ]
  },
  {
   "cell_type": "code",
   "execution_count": 143,
   "metadata": {},
   "outputs": [],
   "source": [
    "X_train, X_test, y_train, y_test = train_test_split(np.asarray(x), np.asarray(y), test_size=0.33, random_state=42)\n",
    "X_train, X_test = torch.Tensor(X_train),torch.Tensor(X_test)\n",
    "y_train, y_test = torch.Tensor(y_train),torch.Tensor(y_test)\n",
    "\n",
    "X_train_size = X_train[:, 0].unsqueeze(1)\n",
    "X_train_shade = X_train[:, 1].unsqueeze(1)\n",
    "assert(X_train_shade.shape == X_train_size.shape)\n",
    "\n",
    "X_test_size = X_test[:, 0].unsqueeze(1)\n",
    "X_test_shade = X_test[:, 1].unsqueeze(1)\n",
    "assert(X_test_size.shape == X_test_shade.shape)"
   ]
  },
  {
   "cell_type": "code",
   "execution_count": 150,
   "metadata": {},
   "outputs": [],
   "source": [
    "epochs = 200000\n",
    "input_dim = 1 # Only size needs to be used to see if something is big or small\n",
    "output_dim = 1 # big or small, binary\n",
    "learning_rate = 0.01\n",
    "classifier = UnfairClassifierParametric(1, 1)\n",
    "optimizer = torch.optim.SGD(classifier.parameters(), lr=learning_rate)\n",
    "criterion = torch.nn.BCELoss()\n",
    "# dummy_data_size = torch.tensor([[1.0], [3.0]])\n",
    "# dummy_data_shade =torch.tensor([[2.0], [4.0]])\n",
    "# print(classifier(dummy_data_size, dummy_data_shade))"
   ]
  },
  {
   "cell_type": "code",
   "execution_count": 151,
   "metadata": {},
   "outputs": [
    {
     "name": "stderr",
     "output_type": "stream",
     "text": [
      "Training Epochs:   5%|▌         | 10525/200000 [00:02<00:48, 3871.18it/s]"
     ]
    },
    {
     "name": "stdout",
     "output_type": "stream",
     "text": [
      "Iteration: 10000. \n",
      "Test - Loss: 0.6943362355232239. Accuracy: 48.78048780487805\n",
      "Train -  Loss: 0.6929636597633362. Accuracy: 50.93283582089552\n",
      "\n"
     ]
    },
    {
     "name": "stderr",
     "output_type": "stream",
     "text": [
      "Training Epochs:  10%|█         | 20777/200000 [00:05<00:45, 3908.31it/s]"
     ]
    },
    {
     "name": "stdout",
     "output_type": "stream",
     "text": [
      "Iteration: 20000. \n",
      "Test - Loss: 0.6941385865211487. Accuracy: 48.85623390395395\n",
      "Train -  Loss: 0.692926287651062. Accuracy: 50.88059701492537\n",
      "\n"
     ]
    },
    {
     "name": "stderr",
     "output_type": "stream",
     "text": [
      "Training Epochs:  15%|█▌        | 30685/200000 [00:07<00:43, 3937.45it/s]"
     ]
    },
    {
     "name": "stdout",
     "output_type": "stream",
     "text": [
      "Iteration: 30000. \n",
      "Test - Loss: 0.6940324902534485. Accuracy: 48.87138312376913\n",
      "Train -  Loss: 0.6929134130477905. Accuracy: 50.865671641791046\n",
      "\n"
     ]
    },
    {
     "name": "stderr",
     "output_type": "stream",
     "text": [
      "Training Epochs:  20%|██        | 40649/200000 [00:10<00:40, 3957.90it/s]"
     ]
    },
    {
     "name": "stdout",
     "output_type": "stream",
     "text": [
      "Iteration: 40000. \n",
      "Test - Loss: 0.6939737200737. Accuracy: 48.93198000302984\n",
      "Train -  Loss: 0.6929090619087219. Accuracy: 50.82835820895522\n",
      "\n"
     ]
    },
    {
     "name": "stderr",
     "output_type": "stream",
     "text": [
      "Training Epochs:  25%|██▌       | 50674/200000 [00:12<00:37, 3972.50it/s]"
     ]
    },
    {
     "name": "stdout",
     "output_type": "stream",
     "text": [
      "Iteration: 50000. \n",
      "Test - Loss: 0.6939404606819153. Accuracy: 48.93198000302984\n",
      "Train -  Loss: 0.6929076910018921. Accuracy: 50.82835820895522\n",
      "\n"
     ]
    },
    {
     "name": "stderr",
     "output_type": "stream",
     "text": [
      "Training Epochs:  30%|███       | 60694/200000 [00:15<00:35, 3960.60it/s]"
     ]
    },
    {
     "name": "stdout",
     "output_type": "stream",
     "text": [
      "Iteration: 60000. \n",
      "Test - Loss: 0.6939215660095215. Accuracy: 48.81078624450841\n",
      "Train -  Loss: 0.6929070949554443. Accuracy: 50.88059701492537\n",
      "\n"
     ]
    },
    {
     "name": "stderr",
     "output_type": "stream",
     "text": [
      "Training Epochs:  35%|███▌      | 70728/200000 [00:17<00:32, 3975.41it/s]"
     ]
    },
    {
     "name": "stdout",
     "output_type": "stream",
     "text": [
      "Iteration: 70000. \n",
      "Test - Loss: 0.693910539150238. Accuracy: 48.81078624450841\n",
      "Train -  Loss: 0.6929069757461548. Accuracy: 50.88059701492537\n",
      "\n"
     ]
    },
    {
     "name": "stderr",
     "output_type": "stream",
     "text": [
      "Training Epochs:  40%|████      | 80401/200000 [00:20<00:30, 3977.99it/s]"
     ]
    },
    {
     "name": "stdout",
     "output_type": "stream",
     "text": [
      "Iteration: 80000. \n",
      "Test - Loss: 0.6939041614532471. Accuracy: 48.81078624450841\n",
      "Train -  Loss: 0.6929068565368652. Accuracy: 50.88059701492537\n",
      "\n"
     ]
    },
    {
     "name": "stderr",
     "output_type": "stream",
     "text": [
      "Training Epochs:  45%|████▌     | 90433/200000 [00:22<00:27, 3989.31it/s]"
     ]
    },
    {
     "name": "stdout",
     "output_type": "stream",
     "text": [
      "Iteration: 90000. \n",
      "Test - Loss: 0.6939005255699158. Accuracy: 48.81078624450841\n",
      "Train -  Loss: 0.6929068565368652. Accuracy: 50.88059701492537\n",
      "\n"
     ]
    },
    {
     "name": "stderr",
     "output_type": "stream",
     "text": [
      "Training Epochs:  50%|█████     | 100442/200000 [00:25<00:24, 3988.94it/s]"
     ]
    },
    {
     "name": "stdout",
     "output_type": "stream",
     "text": [
      "Iteration: 100000. \n",
      "Test - Loss: 0.6938983201980591. Accuracy: 48.81078624450841\n",
      "Train -  Loss: 0.6929068565368652. Accuracy: 50.88059701492537\n",
      "\n"
     ]
    },
    {
     "name": "stderr",
     "output_type": "stream",
     "text": [
      "Training Epochs:  55%|█████▌    | 110496/200000 [00:27<00:22, 3975.80it/s]"
     ]
    },
    {
     "name": "stdout",
     "output_type": "stream",
     "text": [
      "Iteration: 110000. \n",
      "Test - Loss: 0.6938971281051636. Accuracy: 48.81078624450841\n",
      "Train -  Loss: 0.6929068565368652. Accuracy: 50.88059701492537\n",
      "\n"
     ]
    },
    {
     "name": "stderr",
     "output_type": "stream",
     "text": [
      "Training Epochs:  60%|██████    | 120527/200000 [00:30<00:19, 3981.04it/s]"
     ]
    },
    {
     "name": "stdout",
     "output_type": "stream",
     "text": [
      "Iteration: 120000. \n",
      "Test - Loss: 0.693896472454071. Accuracy: 48.81078624450841\n",
      "Train -  Loss: 0.6929068565368652. Accuracy: 50.88059701492537\n",
      "\n"
     ]
    },
    {
     "name": "stderr",
     "output_type": "stream",
     "text": [
      "Training Epochs:  65%|██████▌   | 130570/200000 [00:32<00:17, 3972.96it/s]"
     ]
    },
    {
     "name": "stdout",
     "output_type": "stream",
     "text": [
      "Iteration: 130000. \n",
      "Test - Loss: 0.6938959360122681. Accuracy: 48.81078624450841\n",
      "Train -  Loss: 0.6929068565368652. Accuracy: 50.88059701492537\n",
      "\n"
     ]
    },
    {
     "name": "stderr",
     "output_type": "stream",
     "text": [
      "Training Epochs:  70%|███████   | 140587/200000 [00:35<00:15, 3942.26it/s]"
     ]
    },
    {
     "name": "stdout",
     "output_type": "stream",
     "text": [
      "Iteration: 140000. \n",
      "Test - Loss: 0.6938958168029785. Accuracy: 48.81078624450841\n",
      "Train -  Loss: 0.6929067969322205. Accuracy: 50.88059701492537\n",
      "\n"
     ]
    },
    {
     "name": "stderr",
     "output_type": "stream",
     "text": [
      "Training Epochs:  75%|███████▌  | 150615/200000 [00:37<00:12, 3975.22it/s]"
     ]
    },
    {
     "name": "stdout",
     "output_type": "stream",
     "text": [
      "Iteration: 150000. \n",
      "Test - Loss: 0.6938958168029785. Accuracy: 48.81078624450841\n",
      "Train -  Loss: 0.6929067969322205. Accuracy: 50.88059701492537\n",
      "\n"
     ]
    },
    {
     "name": "stderr",
     "output_type": "stream",
     "text": [
      "Training Epochs:  80%|████████  | 160656/200000 [00:40<00:09, 3947.11it/s]"
     ]
    },
    {
     "name": "stdout",
     "output_type": "stream",
     "text": [
      "Iteration: 160000. \n",
      "Test - Loss: 0.6938958168029785. Accuracy: 48.81078624450841\n",
      "Train -  Loss: 0.6929067969322205. Accuracy: 50.88059701492537\n",
      "\n"
     ]
    },
    {
     "name": "stderr",
     "output_type": "stream",
     "text": [
      "Training Epochs:  85%|████████▌ | 170679/200000 [00:42<00:07, 3983.53it/s]"
     ]
    },
    {
     "name": "stdout",
     "output_type": "stream",
     "text": [
      "Iteration: 170000. \n",
      "Test - Loss: 0.6938958168029785. Accuracy: 48.81078624450841\n",
      "Train -  Loss: 0.6929067969322205. Accuracy: 50.88059701492537\n",
      "\n"
     ]
    },
    {
     "name": "stderr",
     "output_type": "stream",
     "text": [
      "Training Epochs:  90%|█████████ | 180683/200000 [00:45<00:04, 3960.16it/s]"
     ]
    },
    {
     "name": "stdout",
     "output_type": "stream",
     "text": [
      "Iteration: 180000. \n",
      "Test - Loss: 0.6938958168029785. Accuracy: 48.81078624450841\n",
      "Train -  Loss: 0.6929067969322205. Accuracy: 50.88059701492537\n",
      "\n"
     ]
    },
    {
     "name": "stderr",
     "output_type": "stream",
     "text": [
      "Training Epochs:  95%|█████████▌| 190733/200000 [00:47<00:02, 3941.14it/s]"
     ]
    },
    {
     "name": "stdout",
     "output_type": "stream",
     "text": [
      "Iteration: 190000. \n",
      "Test - Loss: 0.6938958168029785. Accuracy: 48.81078624450841\n",
      "Train -  Loss: 0.6929067969322205. Accuracy: 50.88059701492537\n",
      "\n"
     ]
    },
    {
     "name": "stderr",
     "output_type": "stream",
     "text": [
      "Training Epochs: 100%|██████████| 200000/200000 [00:50<00:00, 3981.17it/s]"
     ]
    },
    {
     "name": "stdout",
     "output_type": "stream",
     "text": [
      "Iteration: 200000. \n",
      "Test - Loss: 0.6938958168029785. Accuracy: 48.81078624450841\n",
      "Train -  Loss: 0.6929067969322205. Accuracy: 50.88059701492537\n",
      "\n"
     ]
    },
    {
     "name": "stderr",
     "output_type": "stream",
     "text": [
      "\n"
     ]
    }
   ],
   "source": [
    "losses = []\n",
    "losses_test = []\n",
    "Iterations = []\n",
    "iter = 0\n",
    "for epoch in tqdm(range(int(epochs)),desc='Training Epochs'):\n",
    "    labels = y_train\n",
    "    optimizer.zero_grad() # Setting our stored gradients equal to zero\n",
    "    outputs = classifier(X_train_size, X_train_shade)\n",
    "    loss = criterion(torch.squeeze(outputs), labels) \n",
    "    loss.backward() # Computes the gradient of the given tensor w.r.t. the weights/bias\n",
    "    \n",
    "    optimizer.step() # Updates weights and biases with the optimizer (SGD)\n",
    "    \n",
    "    iter+=1\n",
    "    if iter%10000==0:\n",
    "        with torch.no_grad():\n",
    "            # Calculating the loss and accuracy for the test dataset\n",
    "            correct_test = 0\n",
    "            total_test = 0\n",
    "            outputs_test = torch.squeeze(classifier(X_test_size, X_test_shade))\n",
    "            loss_test = criterion(outputs_test, y_test)\n",
    "            \n",
    "            predicted_test = outputs_test.round().detach().numpy()\n",
    "            total_test += y_test.size(0)\n",
    "            correct_test += np.sum(predicted_test == y_test.detach().numpy())\n",
    "            accuracy_test = 100 * correct_test/total_test\n",
    "            losses_test.append(loss_test.item())\n",
    "            \n",
    "            # Calculating the loss and accuracy for the train dataset\n",
    "            total = 0\n",
    "            correct = 0\n",
    "            total += y_train.size(0)\n",
    "            correct += np.sum(torch.squeeze(outputs).round().detach().numpy() == y_train.detach().numpy())\n",
    "            accuracy = 100 * correct/total\n",
    "            losses.append(loss.item())\n",
    "            Iterations.append(iter)\n",
    "            \n",
    "            print(f\"Iteration: {iter}. \\nTest - Loss: {loss_test.item()}. Accuracy: {accuracy_test}\")\n",
    "            print(f\"Train -  Loss: {loss.item()}. Accuracy: {accuracy}\\n\")"
   ]
  },
  {
   "cell_type": "code",
   "execution_count": 152,
   "metadata": {},
   "outputs": [
    {
     "data": {
      "text/plain": [
       "[<matplotlib.lines.Line2D at 0x16e781bb0>]"
      ]
     },
     "execution_count": 152,
     "metadata": {},
     "output_type": "execute_result"
    },
    {
     "data": {
      "image/png": "[encoded data removed]",
      "text/plain": [
       "<Figure size 432x288 with 1 Axes>"
      ]
     },
     "metadata": {
      "needs_background": "light"
     },
     "output_type": "display_data"
    }
   ],
   "source": [
    "plt.plot(losses)\n",
    "plt.plot(losses_test)"
   ]
  },
  {
   "cell_type": "code",
   "execution_count": 139,
   "metadata": {},
   "outputs": [
    {
     "data": {
      "text/plain": [
       "[]"
      ]
     },
     "execution_count": 139,
     "metadata": {},
     "output_type": "execute_result"
    }
   ],
   "source": [
    "losses"
   ]
  },
  {
   "cell_type": "code",
   "execution_count": null,
   "metadata": {},
   "outputs": [],
   "source": []
  }
 ],
 "metadata": {
  "kernelspec": {
   "display_name": "Python 3.9.12 ('pytorch_env')",
   "language": "python",
   "name": "python3"
  },
  "language_info": {
   "codemirror_mode": {
    "name": "ipython",
    "version": 3
   },
   "file_extension": ".py",
   "mimetype": "text/x-python",
   "name": "python",
   "nbconvert_exporter": "python",
   "pygments_lexer": "ipython3",
   "version": "3.9.12"
  },
  "orig_nbformat": 4,
  "vscode": {
   "interpreter": {
    "hash": "00c5186bdfddd536b5017b57d6c480f35807d43b310ffb126d133b3a9e941375"
   }
  }
 },
 "nbformat": 4,
 "nbformat_minor": 2
}
