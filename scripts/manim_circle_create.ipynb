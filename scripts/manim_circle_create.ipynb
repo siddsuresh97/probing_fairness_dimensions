{
 "cells": [
  {
   "cell_type": "code",
   "execution_count": 14,
   "metadata": {},
   "outputs": [],
   "source": [
    "from src.manim import *"
   ]
  },
  {
   "cell_type": "code",
   "execution_count": 15,
   "metadata": {},
   "outputs": [
    {
     "ename": "NameError",
     "evalue": "name 'Scene' is not defined",
     "output_type": "error",
     "traceback": [
      "\u001b[0;31m---------------------------------------------------------------------------\u001b[0m",
      "\u001b[0;31mNameError\u001b[0m                                 Traceback (most recent call last)",
      "\u001b[1;32m/Users/siddharthsuresh/Projects/Wisconsin/probing_fairness_dimensions/scripts/manim_circle_create.ipynb Cell 2'\u001b[0m in \u001b[0;36m<cell line: 1>\u001b[0;34m()\u001b[0m\n\u001b[0;32m----> <a href='vscode-notebook-cell:/Users/siddharthsuresh/Projects/Wisconsin/probing_fairness_dimensions/scripts/manim_circle_create.ipynb#ch0000002?line=0'>1</a>\u001b[0m \u001b[39mclass\u001b[39;00m \u001b[39mMobjectStyling\u001b[39;00m(Scene):\n\u001b[1;32m      <a href='vscode-notebook-cell:/Users/siddharthsuresh/Projects/Wisconsin/probing_fairness_dimensions/scripts/manim_circle_create.ipynb#ch0000002?line=1'>2</a>\u001b[0m     \u001b[39mdef\u001b[39;00m \u001b[39mconstruct\u001b[39m(\u001b[39mself\u001b[39m):\n\u001b[1;32m      <a href='vscode-notebook-cell:/Users/siddharthsuresh/Projects/Wisconsin/probing_fairness_dimensions/scripts/manim_circle_create.ipynb#ch0000002?line=2'>3</a>\u001b[0m         circle \u001b[39m=\u001b[39m Circle()\u001b[39m.\u001b[39mshift(LEFT)\n",
      "\u001b[0;31mNameError\u001b[0m: name 'Scene' is not defined"
     ]
    }
   ],
   "source": [
    "class MobjectStyling(Scene):\n",
    "    def construct(self):\n",
    "        circle = Circle().shift(LEFT)\n",
    "        square = Square().shift(UP)\n",
    "        triangle = Triangle().shift(RIGHT)\n",
    "\n",
    "        circle.set_stroke(color=GREEN, width=20)\n",
    "        square.set_fill(YELLOW, opacity=1.0)\n",
    "        triangle.set_fill(PINK, opacity=0.5)\n",
    "\n",
    "        self.add(circle, square, triangle)\n",
    "        self.wait(1)"
   ]
  },
  {
   "cell_type": "code",
   "execution_count": null,
   "metadata": {},
   "outputs": [],
   "source": []
  }
 ],
 "metadata": {
  "kernelspec": {
   "display_name": "Python 3.8.13 ('manim')",
   "language": "python",
   "name": "python3"
  },
  "language_info": {
   "codemirror_mode": {
    "name": "ipython",
    "version": 3
   },
   "file_extension": ".py",
   "mimetype": "text/x-python",
   "name": "python",
   "nbconvert_exporter": "python",
   "pygments_lexer": "ipython3",
   "version": "3.8.13"
  },
  "orig_nbformat": 4,
  "vscode": {
   "interpreter": {
    "hash": "113baf5158339d0ebc8cee9ecf8b472676b8b908764a7cbc563b517a1c4b9b3d"
   }
  }
 },
 "nbformat": 4,
 "nbformat_minor": 2
}
